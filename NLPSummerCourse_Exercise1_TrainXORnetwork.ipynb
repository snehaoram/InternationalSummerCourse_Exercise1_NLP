{
  "nbformat": 4,
  "nbformat_minor": 0,
  "metadata": {
    "colab": {
      "provenance": []
    },
    "kernelspec": {
      "name": "python3",
      "display_name": "Python 3"
    },
    "language_info": {
      "name": "python"
    }
  },
  "cells": [
    {
      "cell_type": "markdown",
      "source": [
        "# **XOR Network** (from ab-initio)"
      ],
      "metadata": {
        "id": "3W3qiOR1eCLR"
      }
    },
    {
      "cell_type": "code",
      "execution_count": 1,
      "metadata": {
        "id": "THLQsiRnE7jY"
      },
      "outputs": [],
      "source": [
        "# importing necessary libraries\n",
        "import numpy as np\n",
        "import matplotlib.pyplot as plt"
      ]
    },
    {
      "cell_type": "markdown",
      "source": [
        "# Here is the XOR network architecture"
      ],
      "metadata": {
        "id": "SkCpLhNlj60G"
      }
    },
    {
      "cell_type": "code",
      "source": [
        "from IPython.display import Image\n",
        "Image(filename=\"XORnetwork.png\", width=600)"
      ],
      "metadata": {
        "colab": {
          "base_uri": "https://localhost:8080/",
          "height": 298
        },
        "id": "9WPLY_G3j6KE",
        "outputId": "eb23aafd-89ca-4b6d-cb78-7ecab391f13e"
      },
      "execution_count": 2,
      "outputs": [
        {
          "output_type": "execute_result",
          "data": {
            "image/png": "[encoded data removed]",
            "text/plain": [
              "<IPython.core.display.Image object>"
            ]
          },
          "metadata": {
            "image/png": {
              "width": 600
            }
          },
          "execution_count": 2
        }
      ]
    },
    {
      "cell_type": "code",
      "source": [
        "def initialize_parameters():\n",
        "  # Initializing weight matrix and bias terms\n",
        "  # Initializing weight values with random numbers from normal distribution\n",
        "  # Intitializing bias term with 0\n",
        "\n",
        "  W1 = np.random.randn(2, 2)\n",
        "  W2 = np.random.randn(1, 2)\n",
        "  b1 = np.zeros((2, 1))\n",
        "  b2 = np.zeros((1, 1))\n",
        "\n",
        "  parameters = {\"W1\" : W1, \"b1\": b1, \"W2\" : W2, \"b2\": b2}\n",
        "  return parameters"
      ],
      "metadata": {
        "id": "svAuF-nZd7dt"
      },
      "execution_count": 3,
      "outputs": []
    },
    {
      "cell_type": "code",
      "source": [
        "def sigmoid(x):\n",
        "  # This squeezes any given real number between 0 and 1\n",
        "  return 1/(1+np.exp(-x))\n",
        "\n",
        "def sigmoid_derivative(x):\n",
        "  # Calculating derivative of sigmoid function\n",
        "  return x*(1-x)"
      ],
      "metadata": {
        "id": "hWPufmz7d7bQ"
      },
      "execution_count": 4,
      "outputs": []
    },
    {
      "cell_type": "code",
      "source": [
        "# Performing forward pass.\n",
        "# This is estimating the output for the given input pair\n",
        "\n",
        "def forward_propagation(X, y, parameters):\n",
        "\n",
        "  W1 = parameters[\"W1\"]\n",
        "  W2 = parameters[\"W2\"]\n",
        "  b1 = parameters[\"b1\"]\n",
        "  b2 = parameters[\"b2\"]\n",
        "\n",
        "  # Write your code here\n",
        "  # Calculate net1, O1, net2, O2\n",
        "\n",
        "\n",
        "\n",
        "\n",
        "  # Calculate loss and return the values correctly\n",
        "  cache = (net1, O1, W1, b1, net2, O2, W2, b2)\n",
        "  # This is binary cross-entropy loss function\n",
        "  log_probability = np.multiply(np.log(O2), y) + np.multiply(np.log(1 - O2), (1 - y))\n",
        "  cost = -np.sum(log_probability) / X.shape[1]\n",
        "  return cost, cache, O2"
      ],
      "metadata": {
        "id": "iErKpveZd7hL"
      },
      "execution_count": 5,
      "outputs": []
    },
    {
      "cell_type": "code",
      "source": [
        "def backpropagation(X, y, cache):\n",
        "  (net1, O1, W1, b1, net2, O2, W2, b2) = cache\n",
        "\n",
        "  dnet2 = O2 - y\n",
        "  dW2 = np.dot(dnet2, O1.T) / X.shape[1]\n",
        "  db2 = np.sum(dnet2, axis = 1, keepdims = True)\n",
        "\n",
        "  dO1 = np.dot(W2.T, dnet2)\n",
        "  dnet1 = np.multiply(dO1, sigmoid_derivative(O1))\n",
        "  dW1 = np.dot(dnet1, X.T) / X.shape[1]\n",
        "  db1 = np.sum(dnet1, axis = 1, keepdims = True) / X.shape[1]\n",
        "\n",
        "  gradients = {\"dnet2\": dnet2, \"dW2\": dW2, \"db2\": db2, \"dnet1\": dnet1, \"dW1\": dW1, \"db1\": db1}\n",
        "\n",
        "  return gradients"
      ],
      "metadata": {
        "id": "ahwiC3tTd7v_"
      },
      "execution_count": 6,
      "outputs": []
    },
    {
      "cell_type": "code",
      "source": [
        "def update_parameters(parameters, gradients, learning_rate):\n",
        "\n",
        "  # Write your code here\n",
        "  # Update the values in the parameters and return parameters\n",
        "\n",
        "\n",
        "\n"
      ],
      "metadata": {
        "id": "jzmAHYHAd7kr"
      },
      "execution_count": 13,
      "outputs": []
    },
    {
      "cell_type": "markdown",
      "source": [
        "# All right, lets start training!"
      ],
      "metadata": {
        "id": "2MBHNk7RAk-z"
      }
    },
    {
      "cell_type": "code",
      "source": [
        "def model(epoch, learning_rate):\n",
        "  X = np.array([[0, 0, 1, 1], [0, 1, 0, 1]]) # XOR input\n",
        "  y = np.array([[0, 1, 1, 0]]) # XOR output\n",
        "\n",
        "  parameters = initialize_parameters()\n",
        "  epochs = epoch\n",
        "  learning_rate = learning_rate\n",
        "  loss = np.zeros((epochs, 1))\n",
        "\n",
        "  for i in range(epochs):\n",
        "      loss[i, 0], cache, O2 = forward_propagation(X, y, parameters)\n",
        "      gradients =backpropagation(X, y, cache)\n",
        "      parameters = update_parameters(parameters, gradients, learning_rate)\n",
        "\n",
        "  return parameters"
      ],
      "metadata": {
        "id": "vY5mTIGdAjdh"
      },
      "execution_count": 11,
      "outputs": []
    },
    {
      "cell_type": "markdown",
      "source": [
        "# Try running with different combinations of epoch and leanring rate"
      ],
      "metadata": {
        "id": "1lib7L8vHRbS"
      }
    },
    {
      "cell_type": "code",
      "source": [
        "# Hyper-parameter space epoch = [10000,50000, 100000, 200000, 500000], learning_rate = [0.1,0.01,0.001,0.0001]\n",
        "epoch = 10000\n",
        "learning_rate = 0.1\n",
        "parameters = model(epoch, learning_rate)"
      ],
      "metadata": {
        "id": "Jg4rdJ3IG3o3"
      },
      "execution_count": 18,
      "outputs": []
    },
    {
      "cell_type": "markdown",
      "source": [
        "# Lets predict the output now!"
      ],
      "metadata": {
        "id": "i2mKaBHvAUnA"
      }
    },
    {
      "cell_type": "code",
      "source": [
        "X = np.array([[1, 1, 0, 0], [0, 1, 0, 1]]) # XOR input\n",
        "y = np.array([[0, 1, 1, 0]])\n",
        "cost, _, O2 = forward_propagation(X, y, parameters)\n",
        "prediction = (O2 > 0.5) * 1.0\n",
        "print(prediction)"
      ],
      "metadata": {
        "id": "DRgU7zQ_jdo1",
        "colab": {
          "base_uri": "https://localhost:8080/"
        },
        "outputId": "82b02888-36c8-482e-8a1d-28fb721dd751"
      },
      "execution_count": 19,
      "outputs": [
        {
          "output_type": "stream",
          "name": "stdout",
          "text": [
            "[[1. 0. 0. 1.]]\n"
          ]
        }
      ]
    },
    {
      "cell_type": "markdown",
      "source": [
        "# See how the parameters (weights and biases) look like"
      ],
      "metadata": {
        "id": "vb1fAORWm9J7"
      }
    },
    {
      "cell_type": "code",
      "source": [
        "parameters"
      ],
      "metadata": {
        "colab": {
          "base_uri": "https://localhost:8080/"
        },
        "id": "A-yJLcwmxn2o",
        "outputId": "e495aca4-bda4-4eb5-8df4-2315876b577d"
      },
      "execution_count": 33,
      "outputs": [
        {
          "output_type": "execute_result",
          "data": {
            "text/plain": [
              "{'W1': array([[ 3.9689527 , -7.56325531],\n",
              "        [-4.32300497, -7.43900113]]),\n",
              " 'b1': array([[-2.58062735],\n",
              "        [ 1.1995164 ]]),\n",
              " 'W2': array([[ 6.29087732, -6.81171568]]),\n",
              " 'b2': array([[0.0007726]])}"
            ]
          },
          "metadata": {},
          "execution_count": 33
        }
      ]
    },
    {
      "cell_type": "markdown",
      "source": [
        "# The good graph of loss function looks like..."
      ],
      "metadata": {
        "id": "_7bNdSk-nUzM"
      }
    },
    {
      "cell_type": "code",
      "source": [
        "plt.figure()\n",
        "plt.plot(losses)\n",
        "plt.xlabel(\"EPOCHS\")\n",
        "plt.ylabel(\"Loss value\")\n",
        "plt.show()"
      ],
      "metadata": {
        "id": "YTH_gpayn8qx"
      },
      "execution_count": null,
      "outputs": []
    },
    {
      "cell_type": "code",
      "source": [],
      "metadata": {
        "id": "ivtdiCtcn8tN"
      },
      "execution_count": null,
      "outputs": []
    },
    {
      "cell_type": "code",
      "source": [],
      "metadata": {
        "id": "TD5BOYDyn8wL"
      },
      "execution_count": null,
      "outputs": []
    },
    {
      "cell_type": "code",
      "source": [],
      "metadata": {
        "id": "enip7R9mn8ys"
      },
      "execution_count": null,
      "outputs": []
    },
    {
      "cell_type": "code",
      "source": [],
      "metadata": {
        "id": "At3lnoPbn82R"
      },
      "execution_count": null,
      "outputs": []
    },
    {
      "cell_type": "code",
      "source": [],
      "metadata": {
        "id": "10aTCKMpjduL"
      },
      "execution_count": null,
      "outputs": []
    },
    {
      "cell_type": "code",
      "source": [],
      "metadata": {
        "id": "q5WB9llRjdw6"
      },
      "execution_count": null,
      "outputs": []
    },
    {
      "cell_type": "code",
      "source": [],
      "metadata": {
        "id": "2VleiTSHjd0a"
      },
      "execution_count": null,
      "outputs": []
    },
    {
      "cell_type": "code",
      "source": [],
      "metadata": {
        "id": "44PrTzIGjeHN"
      },
      "execution_count": null,
      "outputs": []
    }
  ]
}